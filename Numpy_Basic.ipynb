{
 "cells": [
  {
   "cell_type": "code",
   "execution_count": 1,
   "id": "ba6da603",
   "metadata": {},
   "outputs": [],
   "source": [
    "import numpy as np"
   ]
  },
  {
   "cell_type": "code",
   "execution_count": 2,
   "id": "18f9076e",
   "metadata": {},
   "outputs": [],
   "source": [
    "#Sci-fy Library and Matplotlib Library"
   ]
  },
  {
   "cell_type": "code",
   "execution_count": 3,
   "id": "90c9ad85",
   "metadata": {},
   "outputs": [],
   "source": [
    "arr = np.array([1,2,3],dtype=\"int\")"
   ]
  },
  {
   "cell_type": "code",
   "execution_count": 4,
   "id": "a17c2d78",
   "metadata": {},
   "outputs": [
    {
     "data": {
      "text/plain": [
       "array([1, 2, 3])"
      ]
     },
     "execution_count": 4,
     "metadata": {},
     "output_type": "execute_result"
    }
   ],
   "source": [
    "arr"
   ]
  },
  {
   "cell_type": "code",
   "execution_count": 5,
   "id": "20227aa3",
   "metadata": {},
   "outputs": [],
   "source": [
    "#Some Methods"
   ]
  },
  {
   "cell_type": "code",
   "execution_count": 6,
   "id": "da22c030",
   "metadata": {},
   "outputs": [
    {
     "data": {
      "text/plain": [
       "dtype('int32')"
      ]
     },
     "execution_count": 6,
     "metadata": {},
     "output_type": "execute_result"
    }
   ],
   "source": [
    "arr.dtype"
   ]
  },
  {
   "cell_type": "code",
   "execution_count": 7,
   "id": "1b284cc0",
   "metadata": {},
   "outputs": [],
   "source": [
    "arr1 = np.array([[1,2,3,4,5,6,7],[8,9,10,11,12,13,14]])"
   ]
  },
  {
   "cell_type": "code",
   "execution_count": 8,
   "id": "9d918573",
   "metadata": {},
   "outputs": [
    {
     "data": {
      "text/plain": [
       "(2, 7)"
      ]
     },
     "execution_count": 8,
     "metadata": {},
     "output_type": "execute_result"
    }
   ],
   "source": [
    "arr1.shape"
   ]
  },
  {
   "cell_type": "code",
   "execution_count": 9,
   "id": "aafef7c9",
   "metadata": {},
   "outputs": [
    {
     "data": {
      "text/plain": [
       "2"
      ]
     },
     "execution_count": 9,
     "metadata": {},
     "output_type": "execute_result"
    }
   ],
   "source": [
    "#get dimension\n",
    "arr1.ndim"
   ]
  },
  {
   "cell_type": "code",
   "execution_count": 10,
   "id": "bc1a27a7",
   "metadata": {},
   "outputs": [
    {
     "data": {
      "text/plain": [
       "14"
      ]
     },
     "execution_count": 10,
     "metadata": {},
     "output_type": "execute_result"
    }
   ],
   "source": [
    "arr1.size"
   ]
  },
  {
   "cell_type": "code",
   "execution_count": 11,
   "id": "2a8c1dba",
   "metadata": {},
   "outputs": [
    {
     "data": {
      "text/plain": [
       "4"
      ]
     },
     "execution_count": 11,
     "metadata": {},
     "output_type": "execute_result"
    }
   ],
   "source": [
    "arr1.itemsize"
   ]
  },
  {
   "cell_type": "code",
   "execution_count": 12,
   "id": "834a152d",
   "metadata": {},
   "outputs": [
    {
     "data": {
      "text/plain": [
       "\"['__repr__', '__str__', '__lt__', '__le__', '__eq__', '__ne__', '__gt__', '__ge__', '__iter__', '__add__', '__radd__', '__sub__', '__rsub__', '__mul__', '__rmul__', '__mod__', '__rmod__', '__divmod__', '__rdivmod__', '__pow__', '__rpow__', '__neg__', '__pos__', '__abs__', '__bool__', '__invert__', '__lshift__', '__rlshift__', '__rshift__', '__rrshift__', '__and__', '__rand__', '__xor__', '__rxor__', '__or__', '__ror__', '__int__', '__float__', '__iadd__', '__isub__', '__imul__', '__imod__', '__ipow__', '__ilshift__', '__irshift__', '__iand__', '__ixor__', '__ior__', '__floordiv__', '__rfloordiv__', '__truediv__', '__rtruediv__', '__ifloordiv__', '__itruediv__', '__index__', '__matmul__', '__rmatmul__', '__imatmul__', '__len__', '__getitem__', '__setitem__', '__delitem__', '__contains__', '__new__', '__array__', '__array_prepare__', '__array_wrap__', '__array_ufunc__', '__array_function__', '__sizeof__', '__copy__', '__deepcopy__', '__reduce__', '__reduce_ex__', '__setstate__', 'dumps', 'dump', '__complex__', '__format__', 'all', 'any', 'argmax', 'argmin', 'argpartition', 'argsort', 'astype', 'byteswap', 'choose', 'clip', 'compress', 'conj', 'conjugate', 'copy', 'cumprod', 'cumsum', 'diagonal', 'dot', 'fill', 'flatten', 'getfield', 'item', 'itemset', 'max', 'mean', 'min', 'newbyteorder', 'nonzero', 'partition', 'prod', 'ptp', 'put', 'ravel', 'repeat', 'reshape', 'resize', 'round', 'searchsorted', 'setfield', 'setflags', 'sort', 'squeeze', 'std', 'sum', 'swapaxes', 'take', 'tobytes', 'tofile', 'tolist', 'tostring', 'trace', 'transpose', 'var', 'view', 'ndim', 'flags', 'shape', 'strides', 'data', 'itemsize', 'size', 'nbytes', 'base', 'dtype', 'real', 'imag', 'flat', 'ctypes', 'T', '__array_interface__', '__array_struct__', '__array_priority__', '__array_finalize__', '__doc__', '__hash__', '__getattribute__', '__setattr__', '__delattr__', '__init__', '__subclasshook__', '__init_subclass__', '__dir__', '__class__']\""
      ]
     },
     "execution_count": 12,
     "metadata": {},
     "output_type": "execute_result"
    }
   ],
   "source": [
    "str(arr1.__dir__())"
   ]
  },
  {
   "cell_type": "code",
   "execution_count": 13,
   "id": "8f8786f4",
   "metadata": {},
   "outputs": [
    {
     "data": {
      "text/plain": [
       "array([[ 1,  2,  3,  4,  5,  6,  7],\n",
       "       [ 8,  9, 10, 11, 12, 13, 14]])"
      ]
     },
     "execution_count": 13,
     "metadata": {},
     "output_type": "execute_result"
    }
   ],
   "source": [
    "arr1"
   ]
  },
  {
   "cell_type": "code",
   "execution_count": 14,
   "id": "01382003",
   "metadata": {},
   "outputs": [],
   "source": [
    "arr1[0,3] = 4"
   ]
  },
  {
   "cell_type": "code",
   "execution_count": 15,
   "id": "2542ae94",
   "metadata": {},
   "outputs": [
    {
     "data": {
      "text/plain": [
       "array([[ 1,  2,  3,  4,  5,  6,  7],\n",
       "       [ 8,  9, 10, 11, 12, 13, 14]])"
      ]
     },
     "execution_count": 15,
     "metadata": {},
     "output_type": "execute_result"
    }
   ],
   "source": [
    "arr1"
   ]
  },
  {
   "cell_type": "code",
   "execution_count": 19,
   "id": "7e3d6242",
   "metadata": {},
   "outputs": [],
   "source": [
    "# !pip install --upgrade jupyterthemes"
   ]
  },
  {
   "cell_type": "code",
   "execution_count": 20,
   "id": "7b74be62",
   "metadata": {},
   "outputs": [
    {
     "data": {
      "text/plain": [
       "array([[ 1,  2,  3,  4,  5,  6,  7],\n",
       "       [ 8,  9, 10, 11, 12, 13, 14]])"
      ]
     },
     "execution_count": 20,
     "metadata": {},
     "output_type": "execute_result"
    }
   ],
   "source": [
    "arr1"
   ]
  },
  {
   "cell_type": "code",
   "execution_count": 26,
   "id": "ef902bd1",
   "metadata": {},
   "outputs": [],
   "source": [
    "#Get More Examples \n",
    "\n",
    "#1. Slicing\n",
    "#2. Indexing\n",
    "#3. Change Values using indexing"
   ]
  },
  {
   "cell_type": "code",
   "execution_count": 33,
   "id": "cceac677",
   "metadata": {},
   "outputs": [
    {
     "data": {
      "text/plain": [
       "array([[ 2,  4,  6],\n",
       "       [ 9, 11, 13]])"
      ]
     },
     "execution_count": 33,
     "metadata": {},
     "output_type": "execute_result"
    }
   ],
   "source": [
    "arr1[:,1:-1:2] #Slicing(Startindex:Endindex:Increment)"
   ]
  },
  {
   "cell_type": "code",
   "execution_count": 36,
   "id": "01c53b9f",
   "metadata": {},
   "outputs": [],
   "source": [
    "arr1[0,1] = 1"
   ]
  },
  {
   "cell_type": "code",
   "execution_count": 39,
   "id": "6b084f8d",
   "metadata": {},
   "outputs": [
    {
     "data": {
      "text/plain": [
       "array([[ 1,  1,  3,  4,  5,  6,  7],\n",
       "       [ 8,  9, 10, 11, 12, 13, 14]])"
      ]
     },
     "execution_count": 39,
     "metadata": {},
     "output_type": "execute_result"
    }
   ],
   "source": [
    "arr1"
   ]
  },
  {
   "cell_type": "code",
   "execution_count": 86,
   "id": "99773d06",
   "metadata": {},
   "outputs": [],
   "source": [
    "#Get More Methods\n",
    "\n",
    "#1. Zeros\n",
    "#2. Ones\n",
    "#3. Full\n",
    "#4. Full_like\n",
    "#5. random.rand its takes 2 params row and columns\n",
    "#6. random.random_sample it takes a tuple as an parameter so you can pass a shape of any array\n",
    "#7. for getting random integer values use randint (number:you will get number that is lesser than you specified,and pass size=(3,3))\n",
    "#8 identity for diagonal matrix"
   ]
  },
  {
   "cell_type": "markdown",
   "id": "9115c2cf",
   "metadata": {},
   "source": [
    "#1 Zeros"
   ]
  },
  {
   "cell_type": "code",
   "execution_count": 59,
   "id": "f7372f14",
   "metadata": {},
   "outputs": [
    {
     "data": {
      "text/plain": [
       "array([[0, 0, 0],\n",
       "       [0, 0, 0]])"
      ]
     },
     "execution_count": 59,
     "metadata": {},
     "output_type": "execute_result"
    }
   ],
   "source": [
    "np.zeros((2,3),dtype=\"int\")"
   ]
  },
  {
   "cell_type": "code",
   "execution_count": 53,
   "id": "bfc930c6",
   "metadata": {
    "scrolled": true
   },
   "outputs": [
    {
     "data": {
      "text/plain": [
       "array([0, 0])"
      ]
     },
     "execution_count": 53,
     "metadata": {},
     "output_type": "execute_result"
    }
   ],
   "source": [
    "np.zeros(2,dtype=\"int\")"
   ]
  },
  {
   "cell_type": "code",
   "execution_count": 68,
   "id": "1b7cfe25",
   "metadata": {},
   "outputs": [],
   "source": [
    "arr2 = np.array(range(1,10))"
   ]
  },
  {
   "cell_type": "code",
   "execution_count": 71,
   "id": "42f3564c",
   "metadata": {},
   "outputs": [],
   "source": [
    "arr2 = arr2.reshape(3,3)"
   ]
  },
  {
   "cell_type": "code",
   "execution_count": 74,
   "id": "21b3dd52",
   "metadata": {},
   "outputs": [
    {
     "data": {
      "text/plain": [
       "array([[0., 0., 0.],\n",
       "       [0., 0., 0.],\n",
       "       [0., 0., 0.]])"
      ]
     },
     "execution_count": 74,
     "metadata": {},
     "output_type": "execute_result"
    }
   ],
   "source": [
    "np.zeros_like(arr2,dtype=\"float\") #you can change the datatype"
   ]
  },
  {
   "cell_type": "markdown",
   "id": "9196701e",
   "metadata": {},
   "source": [
    "#2 Ones"
   ]
  },
  {
   "cell_type": "code",
   "execution_count": 79,
   "id": "cbe31efb",
   "metadata": {},
   "outputs": [
    {
     "data": {
      "text/plain": [
       "array([[1., 1., 1.],\n",
       "       [1., 1., 1.]])"
      ]
     },
     "execution_count": 79,
     "metadata": {},
     "output_type": "execute_result"
    }
   ],
   "source": [
    "np.ones((2,3),dtype=\"float\")"
   ]
  },
  {
   "cell_type": "code",
   "execution_count": 81,
   "id": "183bbaca",
   "metadata": {},
   "outputs": [
    {
     "data": {
      "text/plain": [
       "array([1., 1.])"
      ]
     },
     "execution_count": 81,
     "metadata": {},
     "output_type": "execute_result"
    }
   ],
   "source": [
    "np.ones(2)"
   ]
  },
  {
   "cell_type": "code",
   "execution_count": 84,
   "id": "3e130bf6",
   "metadata": {},
   "outputs": [],
   "source": [
    "arr3 = np.random.randint(7,size=(3,3))"
   ]
  },
  {
   "cell_type": "code",
   "execution_count": 85,
   "id": "d32d0cab",
   "metadata": {},
   "outputs": [
    {
     "data": {
      "text/plain": [
       "array([[5, 0, 2],\n",
       "       [1, 4, 1],\n",
       "       [4, 2, 0]])"
      ]
     },
     "execution_count": 85,
     "metadata": {},
     "output_type": "execute_result"
    }
   ],
   "source": [
    "arr3"
   ]
  },
  {
   "cell_type": "code",
   "execution_count": 88,
   "id": "c28bab00",
   "metadata": {},
   "outputs": [
    {
     "data": {
      "text/plain": [
       "array([[1., 1., 1.],\n",
       "       [1., 1., 1.],\n",
       "       [1., 1., 1.]])"
      ]
     },
     "execution_count": 88,
     "metadata": {},
     "output_type": "execute_result"
    }
   ],
   "source": [
    "np.ones_like(arr3,dtype=\"float\")"
   ]
  },
  {
   "cell_type": "code",
   "execution_count": 90,
   "id": "77f7a57f",
   "metadata": {
    "scrolled": true
   },
   "outputs": [
    {
     "data": {
      "text/plain": [
       "array([[1, 1, 1],\n",
       "       [1, 1, 1]])"
      ]
     },
     "execution_count": 90,
     "metadata": {},
     "output_type": "execute_result"
    }
   ],
   "source": [
    "np.ones((2,3),dtype=\"int\")"
   ]
  },
  {
   "cell_type": "markdown",
   "id": "3e080e1b",
   "metadata": {},
   "source": [
    "#3 Full"
   ]
  },
  {
   "cell_type": "code",
   "execution_count": 98,
   "id": "0ee12824",
   "metadata": {},
   "outputs": [],
   "source": [
    "#full takes 2 params to create nd.array (shape,fill_value) and bydefault datatype will be integer"
   ]
  },
  {
   "cell_type": "code",
   "execution_count": 99,
   "id": "02397c61",
   "metadata": {},
   "outputs": [
    {
     "data": {
      "text/plain": [
       "array([[5., 5., 5.],\n",
       "       [5., 5., 5.]])"
      ]
     },
     "execution_count": 99,
     "metadata": {},
     "output_type": "execute_result"
    }
   ],
   "source": [
    "np.full((2,3),5,dtype=\"float\")"
   ]
  },
  {
   "cell_type": "markdown",
   "id": "10452155",
   "metadata": {},
   "source": [
    "#4 Full_like"
   ]
  },
  {
   "cell_type": "code",
   "execution_count": 109,
   "id": "07aeb74c",
   "metadata": {},
   "outputs": [
    {
     "data": {
      "text/plain": [
       "array([[5, 5, 5],\n",
       "       [5, 5, 5]])"
      ]
     },
     "execution_count": 109,
     "metadata": {},
     "output_type": "execute_result"
    }
   ],
   "source": [
    "np.full_like(np.arange(1,7).reshape(2,3),5)"
   ]
  },
  {
   "cell_type": "markdown",
   "id": "d9f21a2e",
   "metadata": {},
   "source": [
    "#5 random.rand"
   ]
  },
  {
   "cell_type": "code",
   "execution_count": 110,
   "id": "2f881ea2",
   "metadata": {},
   "outputs": [
    {
     "data": {
      "text/plain": [
       "array([[0.95103627, 0.07026942, 0.56916766],\n",
       "       [0.74468357, 0.06020871, 0.45483586]])"
      ]
     },
     "execution_count": 110,
     "metadata": {},
     "output_type": "execute_result"
    }
   ],
   "source": [
    "np.random.rand(2,3)"
   ]
  },
  {
   "cell_type": "markdown",
   "id": "fd8c98ef",
   "metadata": {},
   "source": [
    "#6 random.random_sample"
   ]
  },
  {
   "cell_type": "code",
   "execution_count": 121,
   "id": "ece1f341",
   "metadata": {},
   "outputs": [
    {
     "data": {
      "text/plain": [
       "array([[[[0.22979911, 0.58836211],\n",
       "         [0.24128628, 0.27300059],\n",
       "         [0.66173565, 0.47218756],\n",
       "         [0.76042412, 0.2056913 ]],\n",
       "\n",
       "        [[0.03796378, 0.92051463],\n",
       "         [0.79877002, 0.87130583],\n",
       "         [0.41232594, 0.80230091],\n",
       "         [0.89481268, 0.74144524]],\n",
       "\n",
       "        [[0.263588  , 0.37869162],\n",
       "         [0.59177759, 0.81214253],\n",
       "         [0.1535954 , 0.45749504],\n",
       "         [0.1892239 , 0.54719101]]],\n",
       "\n",
       "\n",
       "       [[[0.3411626 , 0.12819635],\n",
       "         [0.30798797, 0.57652726],\n",
       "         [0.78425558, 0.92832623],\n",
       "         [0.3261702 , 0.95060893]],\n",
       "\n",
       "        [[0.43847736, 0.44914721],\n",
       "         [0.63897292, 0.30655106],\n",
       "         [0.58656126, 0.50449682],\n",
       "         [0.09540313, 0.26546834]],\n",
       "\n",
       "        [[0.12072362, 0.67069345],\n",
       "         [0.48215005, 0.7834786 ],\n",
       "         [0.67148583, 0.63158601],\n",
       "         [0.33664548, 0.84950638]]]])"
      ]
     },
     "execution_count": 121,
     "metadata": {},
     "output_type": "execute_result"
    }
   ],
   "source": [
    "np.random.random_sample((2,3,4,2))\n",
    "# 2 arrays 1 array contains 3 nd.array 4rows and 2 cols "
   ]
  },
  {
   "cell_type": "markdown",
   "id": "c77b8885",
   "metadata": {},
   "source": [
    "#7 randint"
   ]
  },
  {
   "cell_type": "code",
   "execution_count": 122,
   "id": "0059c5ff",
   "metadata": {},
   "outputs": [
    {
     "data": {
      "text/plain": [
       "array([[7, 4, 6],\n",
       "       [5, 9, 4],\n",
       "       [2, 2, 9]])"
      ]
     },
     "execution_count": 122,
     "metadata": {},
     "output_type": "execute_result"
    }
   ],
   "source": [
    "np.random.randint(10,size=(3,3))"
   ]
  },
  {
   "cell_type": "code",
   "execution_count": 126,
   "id": "e9a677e3",
   "metadata": {},
   "outputs": [
    {
     "data": {
      "text/plain": [
       "array([[2, 5, 2],\n",
       "       [5, 1, 5],\n",
       "       [2, 6, 3]])"
      ]
     },
     "execution_count": 126,
     "metadata": {},
     "output_type": "execute_result"
    }
   ],
   "source": [
    "np.random.randint(1,10,size=(3,3))\n",
    "#you can use negative integers"
   ]
  },
  {
   "cell_type": "markdown",
   "id": "432a8c3b",
   "metadata": {},
   "source": [
    "#8 identity"
   ]
  },
  {
   "cell_type": "code",
   "execution_count": 132,
   "id": "2edd1c71",
   "metadata": {},
   "outputs": [
    {
     "data": {
      "text/plain": [
       "array([[1, 0, 0, 0, 0],\n",
       "       [0, 1, 0, 0, 0],\n",
       "       [0, 0, 1, 0, 0],\n",
       "       [0, 0, 0, 1, 0],\n",
       "       [0, 0, 0, 0, 1]])"
      ]
     },
     "execution_count": 132,
     "metadata": {},
     "output_type": "execute_result"
    }
   ],
   "source": [
    "np.identity(5,dtype=\"int\")\n",
    "#bydefault the datatype will be float"
   ]
  },
  {
   "cell_type": "code",
   "execution_count": 133,
   "id": "436e3e75",
   "metadata": {},
   "outputs": [],
   "source": [
    "#repeat method in nd.array"
   ]
  },
  {
   "cell_type": "code",
   "execution_count": 140,
   "id": "abcdd545",
   "metadata": {},
   "outputs": [],
   "source": [
    "arr4 = np.array([[1,2,3]])"
   ]
  },
  {
   "cell_type": "code",
   "execution_count": 141,
   "id": "4edb4bb9",
   "metadata": {},
   "outputs": [
    {
     "data": {
      "text/plain": [
       "array([[1, 2, 3]])"
      ]
     },
     "execution_count": 141,
     "metadata": {},
     "output_type": "execute_result"
    }
   ],
   "source": [
    "arr4"
   ]
  },
  {
   "cell_type": "code",
   "execution_count": 145,
   "id": "8fbda917",
   "metadata": {},
   "outputs": [
    {
     "data": {
      "text/plain": [
       "array([[1, 2, 3],\n",
       "       [1, 2, 3],\n",
       "       [1, 2, 3],\n",
       "       [1, 2, 3],\n",
       "       [1, 2, 3]])"
      ]
     },
     "execution_count": 145,
     "metadata": {},
     "output_type": "execute_result"
    }
   ],
   "source": [
    "np.repeat(arr4,5,axis=0) #0 for rows 1 for cols"
   ]
  },
  {
   "cell_type": "markdown",
   "id": "5ff4feef",
   "metadata": {},
   "source": [
    "#Question:1\n",
    "# [[1, 1, 1, 1, 1],\n",
    "#  [1, 0, 0, 0, 1],\n",
    "#  [1, 0, 9, 0, 1],\n",
    "#  [1, 0, 0, 0, 1],\n",
    "#  [1, 1, 1, 1, 1]]"
   ]
  },
  {
   "cell_type": "code",
   "execution_count": 165,
   "id": "ae8f2d75",
   "metadata": {},
   "outputs": [],
   "source": [
    "takeones = np.ones((5,5),dtype=\"int\")"
   ]
  },
  {
   "cell_type": "code",
   "execution_count": 166,
   "id": "9f67b2a8",
   "metadata": {},
   "outputs": [
    {
     "data": {
      "text/plain": [
       "array([[1, 1, 1, 1, 1],\n",
       "       [1, 1, 1, 1, 1],\n",
       "       [1, 1, 1, 1, 1],\n",
       "       [1, 1, 1, 1, 1],\n",
       "       [1, 1, 1, 1, 1]])"
      ]
     },
     "execution_count": 166,
     "metadata": {},
     "output_type": "execute_result"
    }
   ],
   "source": [
    "takeones"
   ]
  },
  {
   "cell_type": "code",
   "execution_count": 167,
   "id": "738a9fe6",
   "metadata": {},
   "outputs": [],
   "source": [
    "takezeros = np.zeros((3,3),dtype=\"int\")"
   ]
  },
  {
   "cell_type": "code",
   "execution_count": 168,
   "id": "b9899ed3",
   "metadata": {},
   "outputs": [],
   "source": [
    "takezeros[1,1] = 9"
   ]
  },
  {
   "cell_type": "code",
   "execution_count": 169,
   "id": "42a21702",
   "metadata": {},
   "outputs": [
    {
     "data": {
      "text/plain": [
       "array([[0, 0, 0],\n",
       "       [0, 9, 0],\n",
       "       [0, 0, 0]])"
      ]
     },
     "execution_count": 169,
     "metadata": {},
     "output_type": "execute_result"
    }
   ],
   "source": [
    "takezeros"
   ]
  },
  {
   "cell_type": "code",
   "execution_count": 170,
   "id": "ea4426d5",
   "metadata": {},
   "outputs": [],
   "source": [
    "takeones[1:4,1:4] = takezeros"
   ]
  },
  {
   "cell_type": "code",
   "execution_count": 172,
   "id": "cd840e21",
   "metadata": {},
   "outputs": [
    {
     "data": {
      "text/plain": [
       "array([[1, 1, 1, 1, 1],\n",
       "       [1, 0, 0, 0, 1],\n",
       "       [1, 0, 9, 0, 1],\n",
       "       [1, 0, 0, 0, 1],\n",
       "       [1, 1, 1, 1, 1]])"
      ]
     },
     "execution_count": 172,
     "metadata": {},
     "output_type": "execute_result"
    }
   ],
   "source": [
    "takeones"
   ]
  },
  {
   "cell_type": "code",
   "execution_count": null,
   "id": "9cd0c375",
   "metadata": {},
   "outputs": [],
   "source": []
  }
 ],
 "metadata": {
  "kernelspec": {
   "display_name": "Python 3 (ipykernel)",
   "language": "python",
   "name": "python3"
  },
  "language_info": {
   "codemirror_mode": {
    "name": "ipython",
    "version": 3
   },
   "file_extension": ".py",
   "mimetype": "text/x-python",
   "name": "python",
   "nbconvert_exporter": "python",
   "pygments_lexer": "ipython3",
   "version": "3.9.12"
  }
 },
 "nbformat": 4,
 "nbformat_minor": 5
}
